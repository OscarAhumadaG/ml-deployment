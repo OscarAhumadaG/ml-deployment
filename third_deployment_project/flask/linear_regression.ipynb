{
 "cells": [
  {
   "cell_type": "code",
   "execution_count": 1,
   "id": "initial_id",
   "metadata": {
    "collapsed": true,
    "ExecuteTime": {
     "end_time": "2025-03-22T04:16:46.039618900Z",
     "start_time": "2025-03-22T04:16:32.380410800Z"
    }
   },
   "outputs": [],
   "source": [
    "import pandas as pd\n",
    "import numpy as np\n",
    "from sklearn.linear_model import LinearRegression\n",
    "import joblib"
   ]
  },
  {
   "cell_type": "code",
   "execution_count": 2,
   "outputs": [
    {
     "data": {
      "text/plain": "     var_1  var_2  var_3  var_4  var_5  output\n421    665    812     65  0.314  0.246   0.393\n163    822    731     94  0.345  0.284   0.417\n595    573    656     75  0.313  0.242   0.345\n641    714    771     75  0.321  0.261   0.385\n694    680    781     70  0.318  0.256   0.398",
      "text/html": "<div>\n<style scoped>\n    .dataframe tbody tr th:only-of-type {\n        vertical-align: middle;\n    }\n\n    .dataframe tbody tr th {\n        vertical-align: top;\n    }\n\n    .dataframe thead th {\n        text-align: right;\n    }\n</style>\n<table border=\"1\" class=\"dataframe\">\n  <thead>\n    <tr style=\"text-align: right;\">\n      <th></th>\n      <th>var_1</th>\n      <th>var_2</th>\n      <th>var_3</th>\n      <th>var_4</th>\n      <th>var_5</th>\n      <th>output</th>\n    </tr>\n  </thead>\n  <tbody>\n    <tr>\n      <th>421</th>\n      <td>665</td>\n      <td>812</td>\n      <td>65</td>\n      <td>0.314</td>\n      <td>0.246</td>\n      <td>0.393</td>\n    </tr>\n    <tr>\n      <th>163</th>\n      <td>822</td>\n      <td>731</td>\n      <td>94</td>\n      <td>0.345</td>\n      <td>0.284</td>\n      <td>0.417</td>\n    </tr>\n    <tr>\n      <th>595</th>\n      <td>573</td>\n      <td>656</td>\n      <td>75</td>\n      <td>0.313</td>\n      <td>0.242</td>\n      <td>0.345</td>\n    </tr>\n    <tr>\n      <th>641</th>\n      <td>714</td>\n      <td>771</td>\n      <td>75</td>\n      <td>0.321</td>\n      <td>0.261</td>\n      <td>0.385</td>\n    </tr>\n    <tr>\n      <th>694</th>\n      <td>680</td>\n      <td>781</td>\n      <td>70</td>\n      <td>0.318</td>\n      <td>0.256</td>\n      <td>0.398</td>\n    </tr>\n  </tbody>\n</table>\n</div>"
     },
     "execution_count": 2,
     "metadata": {},
     "output_type": "execute_result"
    }
   ],
   "source": [
    "df = pd.read_csv(\"Linear_regression_dataset.csv\", header='infer')\n",
    "df.sample(5)"
   ],
   "metadata": {
    "collapsed": false,
    "ExecuteTime": {
     "end_time": "2025-03-22T04:17:38.768238800Z",
     "start_time": "2025-03-22T04:17:38.566993300Z"
    }
   },
   "id": "1ab2ff2b2e65542d"
  },
  {
   "cell_type": "code",
   "execution_count": 3,
   "outputs": [
    {
     "data": {
      "text/plain": "0.8692670151914199"
     },
     "execution_count": 3,
     "metadata": {},
     "output_type": "execute_result"
    }
   ],
   "source": [
    "X = df.loc[:, df.columns != \"output\"]\n",
    "y = df[\"output\"]\n",
    "lr = LinearRegression().fit(X,y)\n",
    "lr.score(X,y)"
   ],
   "metadata": {
    "collapsed": false,
    "ExecuteTime": {
     "end_time": "2025-03-22T04:19:55.580695Z",
     "start_time": "2025-03-22T04:19:55.466914100Z"
    }
   },
   "id": "219a5a667d15cb93"
  },
  {
   "cell_type": "code",
   "execution_count": 4,
   "outputs": [
    {
     "data": {
      "text/plain": "['linear_regression_model.pkl']"
     },
     "execution_count": 4,
     "metadata": {},
     "output_type": "execute_result"
    }
   ],
   "source": [
    "joblib.dump(lr, 'linear_regression_model.pkl')"
   ],
   "metadata": {
    "collapsed": false,
    "ExecuteTime": {
     "end_time": "2025-03-22T04:21:35.018706500Z",
     "start_time": "2025-03-22T04:21:34.856584200Z"
    }
   },
   "id": "c9e98749af4bebab"
  }
 ],
 "metadata": {
  "kernelspec": {
   "display_name": "Python 3",
   "language": "python",
   "name": "python3"
  },
  "language_info": {
   "codemirror_mode": {
    "name": "ipython",
    "version": 2
   },
   "file_extension": ".py",
   "mimetype": "text/x-python",
   "name": "python",
   "nbconvert_exporter": "python",
   "pygments_lexer": "ipython2",
   "version": "2.7.6"
  }
 },
 "nbformat": 4,
 "nbformat_minor": 5
}
