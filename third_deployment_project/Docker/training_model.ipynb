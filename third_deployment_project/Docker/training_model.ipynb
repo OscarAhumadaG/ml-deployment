{
 "cells": [
  {
   "cell_type": "code",
   "execution_count": 2,
   "id": "initial_id",
   "metadata": {
    "collapsed": true,
    "ExecuteTime": {
     "end_time": "2025-03-26T04:37:30.095372500Z",
     "start_time": "2025-03-26T04:37:29.604581200Z"
    }
   },
   "outputs": [],
   "source": [
    "import pandas as pd\n",
    "import numpy as np\n",
    "from sklearn.model_selection import train_test_split\n",
    "from sklearn.linear_model import LogisticRegression\n",
    "from sklearn.metrics import confusion_matrix\n",
    "from sklearn.metrics import classification_report\n",
    "import pickle"
   ]
  },
  {
   "cell_type": "code",
   "execution_count": 3,
   "outputs": [
    {
     "data": {
      "text/plain": "(316200, 4)"
     },
     "execution_count": 3,
     "metadata": {},
     "output_type": "execute_result"
    }
   ],
   "source": [
    "df = pd.read_csv(\"online_sales.csv\")\n",
    "df.shape"
   ],
   "metadata": {
    "collapsed": false,
    "ExecuteTime": {
     "end_time": "2025-03-26T04:37:30.292928600Z",
     "start_time": "2025-03-26T04:37:30.101371400Z"
    }
   },
   "id": "e4c791aa4578d3ac"
  },
  {
   "cell_type": "code",
   "execution_count": 4,
   "outputs": [
    {
     "data": {
      "text/plain": "   age  new_user  total_pages_visited  converted\n0   25         1                    1          0\n1   23         1                    5          0\n2   28         1                    4          0\n3   39         1                    5          0\n4   30         1                    6          0",
      "text/html": "<div>\n<style scoped>\n    .dataframe tbody tr th:only-of-type {\n        vertical-align: middle;\n    }\n\n    .dataframe tbody tr th {\n        vertical-align: top;\n    }\n\n    .dataframe thead th {\n        text-align: right;\n    }\n</style>\n<table border=\"1\" class=\"dataframe\">\n  <thead>\n    <tr style=\"text-align: right;\">\n      <th></th>\n      <th>age</th>\n      <th>new_user</th>\n      <th>total_pages_visited</th>\n      <th>converted</th>\n    </tr>\n  </thead>\n  <tbody>\n    <tr>\n      <th>0</th>\n      <td>25</td>\n      <td>1</td>\n      <td>1</td>\n      <td>0</td>\n    </tr>\n    <tr>\n      <th>1</th>\n      <td>23</td>\n      <td>1</td>\n      <td>5</td>\n      <td>0</td>\n    </tr>\n    <tr>\n      <th>2</th>\n      <td>28</td>\n      <td>1</td>\n      <td>4</td>\n      <td>0</td>\n    </tr>\n    <tr>\n      <th>3</th>\n      <td>39</td>\n      <td>1</td>\n      <td>5</td>\n      <td>0</td>\n    </tr>\n    <tr>\n      <th>4</th>\n      <td>30</td>\n      <td>1</td>\n      <td>6</td>\n      <td>0</td>\n    </tr>\n  </tbody>\n</table>\n</div>"
     },
     "execution_count": 4,
     "metadata": {},
     "output_type": "execute_result"
    }
   ],
   "source": [
    "df.head()"
   ],
   "metadata": {
    "collapsed": false,
    "ExecuteTime": {
     "end_time": "2025-03-26T04:37:30.387106Z",
     "start_time": "2025-03-26T04:37:30.283901800Z"
    }
   },
   "id": "942ca67e14ef3ecc"
  },
  {
   "cell_type": "code",
   "execution_count": 5,
   "outputs": [
    {
     "data": {
      "text/plain": "converted\n0    306000\n1     10200\nName: count, dtype: int64"
     },
     "execution_count": 5,
     "metadata": {},
     "output_type": "execute_result"
    }
   ],
   "source": [
    "df.converted.value_counts()"
   ],
   "metadata": {
    "collapsed": false,
    "ExecuteTime": {
     "end_time": "2025-03-26T04:37:30.413088700Z",
     "start_time": "2025-03-26T04:37:30.332111100Z"
    }
   },
   "id": "b37ddd70af88f52f"
  },
  {
   "cell_type": "code",
   "execution_count": 6,
   "outputs": [
    {
     "name": "stdout",
     "output_type": "stream",
     "text": [
      "<class 'pandas.core.frame.DataFrame'>\n",
      "RangeIndex: 316200 entries, 0 to 316199\n",
      "Data columns (total 4 columns):\n",
      " #   Column               Non-Null Count   Dtype\n",
      "---  ------               --------------   -----\n",
      " 0   age                  316200 non-null  int64\n",
      " 1   new_user             316200 non-null  int64\n",
      " 2   total_pages_visited  316200 non-null  int64\n",
      " 3   converted            316200 non-null  int64\n",
      "dtypes: int64(4)\n",
      "memory usage: 9.6 MB\n"
     ]
    }
   ],
   "source": [
    "df.info()"
   ],
   "metadata": {
    "collapsed": false,
    "ExecuteTime": {
     "end_time": "2025-03-26T04:37:30.498658200Z",
     "start_time": "2025-03-26T04:37:30.404087Z"
    }
   },
   "id": "9104ea8f903811c7"
  },
  {
   "cell_type": "code",
   "execution_count": 7,
   "outputs": [
    {
     "name": "stdout",
     "output_type": "stream",
     "text": [
      "['age', 'new_user', 'total_pages_visited']\n"
     ]
    }
   ],
   "source": [
    "input_columns = [column for column in df.columns if column != \"converted\"]\n",
    "print(input_columns)"
   ],
   "metadata": {
    "collapsed": false,
    "ExecuteTime": {
     "end_time": "2025-03-26T04:37:30.499651Z",
     "start_time": "2025-03-26T04:37:30.434629600Z"
    }
   },
   "id": "446420aa8354ba45"
  },
  {
   "cell_type": "code",
   "execution_count": 8,
   "outputs": [
    {
     "name": "stdout",
     "output_type": "stream",
     "text": [
      "converted\n"
     ]
    }
   ],
   "source": [
    "output_column = 'converted'\n",
    "print(output_column)"
   ],
   "metadata": {
    "collapsed": false,
    "ExecuteTime": {
     "end_time": "2025-03-26T04:37:30.598382400Z",
     "start_time": "2025-03-26T04:37:30.452039100Z"
    }
   },
   "id": "70ddbc28b9bd7039"
  },
  {
   "cell_type": "code",
   "execution_count": 9,
   "outputs": [
    {
     "name": "stdout",
     "output_type": "stream",
     "text": [
      "(316200, 3) (316200,)\n"
     ]
    }
   ],
   "source": [
    "X = df.loc[:, input_columns].values\n",
    "y = df.loc[:,output_column]\n",
    "print(X.shape, y.shape)"
   ],
   "metadata": {
    "collapsed": false,
    "ExecuteTime": {
     "end_time": "2025-03-26T04:37:30.599389100Z",
     "start_time": "2025-03-26T04:37:30.470606600Z"
    }
   },
   "id": "86d6567a2209ff03"
  },
  {
   "cell_type": "code",
   "execution_count": 10,
   "outputs": [],
   "source": [
    "X_train, X_test, y_train, y_test = train_test_split(X,y, test_size=0.3, random_state=555, stratify=y)"
   ],
   "metadata": {
    "collapsed": false,
    "ExecuteTime": {
     "end_time": "2025-03-26T04:37:30.976908300Z",
     "start_time": "2025-03-26T04:37:30.497656200Z"
    }
   },
   "id": "7f7d9b14d1c2d516"
  },
  {
   "cell_type": "code",
   "execution_count": 11,
   "outputs": [
    {
     "name": "stdout",
     "output_type": "stream",
     "text": [
      "7140\n",
      "3060\n"
     ]
    }
   ],
   "source": [
    "print(np.sum(y_train))\n",
    "print(np.sum(y_test))"
   ],
   "metadata": {
    "collapsed": false,
    "ExecuteTime": {
     "end_time": "2025-03-26T04:37:30.983910Z",
     "start_time": "2025-03-26T04:37:30.831929900Z"
    }
   },
   "id": "78975e8e177b3172"
  },
  {
   "cell_type": "code",
   "execution_count": 12,
   "outputs": [
    {
     "data": {
      "text/plain": "0.9369175627240144"
     },
     "execution_count": 12,
     "metadata": {},
     "output_type": "execute_result"
    }
   ],
   "source": [
    "logreg=LogisticRegression(class_weight='balanced').fit(X_train,y_train)\n",
    "logreg.score(X_test, y_test)"
   ],
   "metadata": {
    "collapsed": false,
    "ExecuteTime": {
     "end_time": "2025-03-26T04:37:32.143023200Z",
     "start_time": "2025-03-26T04:37:30.844349Z"
    }
   },
   "id": "6e278e8fd4ea0938"
  },
  {
   "cell_type": "code",
   "execution_count": 13,
   "outputs": [],
   "source": [
    "predictions=logreg.predict(X_test)"
   ],
   "metadata": {
    "collapsed": false,
    "ExecuteTime": {
     "end_time": "2025-03-26T04:37:32.144032400Z",
     "start_time": "2025-03-26T04:37:32.117146900Z"
    }
   },
   "id": "12686cf2244e61ab"
  },
  {
   "cell_type": "code",
   "execution_count": 14,
   "outputs": [
    {
     "name": "stdout",
     "output_type": "stream",
     "text": [
      "              precision    recall  f1-score   support\n",
      "\n",
      "NonConverted       1.00      0.94      0.97     91800\n",
      "   Converted       0.33      0.92      0.49      3060\n",
      "\n",
      "    accuracy                           0.94     94860\n",
      "   macro avg       0.66      0.93      0.73     94860\n",
      "weighted avg       0.98      0.94      0.95     94860\n"
     ]
    }
   ],
   "source": [
    "print(classification_report(y_test,predictions,target_names=[\"NonConverted\", \"Converted\"]))"
   ],
   "metadata": {
    "collapsed": false,
    "ExecuteTime": {
     "end_time": "2025-03-26T04:37:32.254031Z",
     "start_time": "2025-03-26T04:37:32.127030500Z"
    }
   },
   "id": "3e42f81b6d0666b"
  },
  {
   "cell_type": "code",
   "execution_count": 15,
   "outputs": [],
   "source": [
    "pickle_out = open(\"logreg.pkl\",\"wb\")\n",
    "pickle.dump(logreg, pickle_out)\n",
    "pickle_out.close()"
   ],
   "metadata": {
    "collapsed": false,
    "ExecuteTime": {
     "end_time": "2025-03-26T04:37:32.311012500Z",
     "start_time": "2025-03-26T04:37:32.198855Z"
    }
   },
   "id": "92f3144d881405c3"
  },
  {
   "cell_type": "code",
   "execution_count": 16,
   "outputs": [],
   "source": [
    "pickle_in = open(\"logreg.pkl\",\"rb\")\n",
    "model=pickle.load(pickle_in)"
   ],
   "metadata": {
    "collapsed": false,
    "ExecuteTime": {
     "end_time": "2025-03-26T04:37:32.312006200Z",
     "start_time": "2025-03-26T04:37:32.215912900Z"
    }
   },
   "id": "899f162675f58e4d"
  },
  {
   "cell_type": "code",
   "execution_count": 17,
   "outputs": [
    {
     "data": {
      "text/plain": "np.int64(0)"
     },
     "execution_count": 17,
     "metadata": {},
     "output_type": "execute_result"
    }
   ],
   "source": [
    "model.predict([[45,0,5]])[0]"
   ],
   "metadata": {
    "collapsed": false,
    "ExecuteTime": {
     "end_time": "2025-03-26T04:37:32.313003900Z",
     "start_time": "2025-03-26T04:37:32.232022100Z"
    }
   },
   "id": "41430c06644ff601"
  },
  {
   "cell_type": "code",
   "execution_count": 18,
   "outputs": [
    {
     "name": "stdout",
     "output_type": "stream",
     "text": [
      "[0 0 1 0 0 0 0 0 0 1 0 0 0 0 1 0 1 0 0 0 0 0 0 0 0 0 0 0 0 0 0 0 0 0 0 0 0\n",
      " 0 1 0 0 0 0 0 0 0 0 0 0 0]\n"
     ]
    },
    {
     "name": "stderr",
     "output_type": "stream",
     "text": [
      "C:\\Users\\LENOVO\\anaconda3\\envs\\ml-deployment\\Lib\\site-packages\\sklearn\\utils\\validation.py:2732: UserWarning: X has feature names, but LogisticRegression was fitted without feature names\n",
      "  warnings.warn(\n"
     ]
    }
   ],
   "source": [
    "df_test = pd.read_csv(\"test_data.csv\")\n",
    "predictions = model.predict(df_test)\n",
    "print(predictions)"
   ],
   "metadata": {
    "collapsed": false,
    "ExecuteTime": {
     "end_time": "2025-03-26T04:37:32.392572500Z",
     "start_time": "2025-03-26T04:37:32.252030600Z"
    }
   },
   "id": "ab4a5a0143399250"
  }
 ],
 "metadata": {
  "kernelspec": {
   "name": "ml-deployment",
   "language": "python",
   "display_name": "Python (ml-deployment)"
  },
  "language_info": {
   "codemirror_mode": {
    "name": "ipython",
    "version": 2
   },
   "file_extension": ".py",
   "mimetype": "text/x-python",
   "name": "python",
   "nbconvert_exporter": "python",
   "pygments_lexer": "ipython2",
   "version": "2.7.6"
  }
 },
 "nbformat": 4,
 "nbformat_minor": 5
}
